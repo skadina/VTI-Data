{
  "nbformat": 4,
  "nbformat_minor": 0,
  "metadata": {
    "colab": {
      "provenance": [],
      "toc_visible": true,
      "authorship_tag": "ABX9TyNBAr/tvE8P/NIfi7NYeA4m",
      "include_colab_link": true
    },
    "kernelspec": {
      "name": "python3",
      "display_name": "Python 3"
    },
    "language_info": {
      "name": "python"
    }
  },
  "cells": [
    {
      "cell_type": "markdown",
      "metadata": {
        "id": "view-in-github",
        "colab_type": "text"
      },
      "source": [
        "<a href=\"https://colab.research.google.com/github/skadina/VTI-Data/blob/main/notebooks/POS_tagging.ipynb\" target=\"_parent\"><img src=\"https://colab.research.google.com/assets/colab-badge.svg\" alt=\"Open In Colab\"/></a>"
      ]
    },
    {
      "cell_type": "markdown",
      "source": [
        "## Some tools for Part of Speech (POS) Tagging  "
      ],
      "metadata": {
        "id": "xKeDcPb7dvra"
      }
    },
    {
      "cell_type": "code",
      "source": [
        "!pip install nltk spacy\n",
        "import nltk\n",
        "import spacy"
      ],
      "metadata": {
        "id": "dHqh9c2ceS-5"
      },
      "execution_count": null,
      "outputs": []
    },
    {
      "cell_type": "markdown",
      "source": [
        "# POS tagging with NLTK"
      ],
      "metadata": {
        "id": "0y53N3s2j5DD"
      }
    },
    {
      "cell_type": "code",
      "execution_count": null,
      "metadata": {
        "id": "DuGo-jadcztt"
      },
      "outputs": [],
      "source": [
        "nltk.download('punkt')\n",
        "from nltk.tokenize import word_tokenize\n",
        "\n",
        "text='Time flies like an arrow.'\n",
        "words = word_tokenize('Time flies like an arrow.')\n",
        "\n",
        "nltk.download('averaged_perceptron_tagger')\n",
        "nltk.pos_tag(words)"
      ]
    },
    {
      "cell_type": "markdown",
      "source": [
        "# POS tagging with Spacy"
      ],
      "metadata": {
        "id": "-Ut47zmcdrpd"
      }
    },
    {
      "cell_type": "code",
      "source": [
        "nlp=spacy.load(\"en_core_web_sm\")\n",
        "spacy_doc=nlp(text)\n",
        "for token in spacy_doc:\n",
        "     print(token,token.pos_)"
      ],
      "metadata": {
        "id": "Vp0b0KjHkQ2l"
      },
      "execution_count": null,
      "outputs": []
    },
    {
      "cell_type": "markdown",
      "source": [
        "# BERT-based POS taggers"
      ],
      "metadata": {
        "id": "MF42dQ8FdsiL"
      }
    },
    {
      "cell_type": "code",
      "source": [
        "#Example from Hugging Face: https://huggingface.co/QCRI/bert-base-multilingual-cased-pos-english\n",
        "\n",
        "from transformers import AutoTokenizer, AutoModelForTokenClassification, TokenClassificationPipeline\n",
        "\n",
        "model_name = \"QCRI/bert-base-multilingual-cased-pos-english\"\n",
        "tokenizer = AutoTokenizer.from_pretrained(model_name)\n",
        "model = AutoModelForTokenClassification.from_pretrained(model_name)\n",
        "\n",
        "pipeline = TokenClassificationPipeline(model=model, tokenizer=tokenizer)\n",
        "outputs = pipeline(\"Time flies like an arrow.\")\n",
        "print(outputs)"
      ],
      "metadata": {
        "id": "qk9kZH6C0L9G"
      },
      "execution_count": null,
      "outputs": []
    },
    {
      "cell_type": "code",
      "source": [
        "import tensorflow as tf\n",
        "from transformers import BertTokenizer, TFBertForTokenClassification\n",
        "\n",
        "\n",
        "# Load the BERT tokenizer\n",
        "tokenizer = BertTokenizer.from_pretrained('bert-base-uncased')\n",
        "\n",
        "# Tokenize input text\n",
        "input_tokens = tokenizer.tokenize(text)\n",
        "input_ids = tokenizer.convert_tokens_to_ids(input_tokens)\n",
        "\n",
        "# Load the BERT model for POS tagging\n",
        "model = TFBertForTokenClassification.from_pretrained('bert-base-uncased')\n",
        "\n",
        "# Predict POS tags for the input text\n",
        "predictions = model(tf.expand_dims(input_ids, 0))\n",
        "predicted_tags = [tokenizer.convert_ids_to_tokens([i])[0] for i in tf.argmax(predictions[0], axis=2).numpy()[0]]\n",
        "\n",
        "# Print the input text and the predicted POS tags\n",
        "print(f'Input text: {text}')\n",
        "print(f'Predicted POS tags: {predicted_tags}')"
      ],
      "metadata": {
        "id": "NAIjIyMltj-h"
      },
      "execution_count": null,
      "outputs": []
    }
  ]
}